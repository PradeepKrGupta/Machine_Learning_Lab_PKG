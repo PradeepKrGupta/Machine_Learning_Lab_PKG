{
 "cells": [
  {
   "cell_type": "code",
   "execution_count": 6,
   "metadata": {},
   "outputs": [
    {
     "name": "stdout",
     "output_type": "stream",
     "text": [
      "  Customer  Candies (#)  Mangoes (Kg)  Milk Packets (#)  Payment (Rs)\n",
      "0      C_1           20             6                 2           386\n",
      "1      C_2           16             3                 6           289\n",
      "2      C_3           27             6                 2           393\n",
      "3      C_4           19             1                 2           110\n",
      "4      C_5           24             4                 2           280\n",
      "5      C_6           22             1                 5           167\n",
      "6      C_7           15             4                 2           271\n",
      "7      C_8           18             4                 2           274\n",
      "8      C_9           21             1                 4           148\n",
      "9     C_10           16             2                 4           198\n"
     ]
    }
   ],
   "source": [
    "import pandas as pd\n",
    "import numpy as np\n",
    "import statistics\n",
    "import sympy as sym\n",
    "from sklearn.model_selection import train_test_split\n",
    "from sklearn.tree import DecisionTreeClassifier\n",
    "\n",
    "# >>>>>>>>>>>>>>>>>>>>>>>>>>For Purchase Data<<<<<<<<<<<<<<<<<<<<<<<<<<<<<<<<<<<<<<<<<<<\n",
    "\n",
    "\n",
    "purchase_data = pd.read_excel('./data.xlsx', sheet_name=\"Purchase data\")\n",
    "\n",
    "dataFrame_purchase = pd.DataFrame(purchase_data)\n",
    "\n",
    "dataFrame_purchase.drop(dataFrame_purchase.iloc[:, 5:23], axis=1, inplace=True)\n",
    "\n",
    "print(dataFrame_purchase)"
   ]
  },
  {
   "cell_type": "code",
   "execution_count": 5,
   "metadata": {},
   "outputs": [
    {
     "name": "stdout",
     "output_type": "stream",
     "text": [
      "Dimensionality of the vector space for this data is (10, 3)\n"
     ]
    }
   ],
   "source": [
    "# 1.What is the dimensionality of the vector space for this data?\n",
    "reshaping = dataFrame_purchase.iloc[0:10, 1:4]\n",
    "# print(reshaping)\n",
    "arrayMatrix = np.array(reshaping)\n",
    "# print(arrayMatrix)\n",
    "\n",
    "\n",
    "\n",
    "print(\"Dimensionality of the vector space for this data is\",arrayMatrix.shape)"
   ]
  },
  {
   "cell_type": "code",
   "execution_count": 6,
   "metadata": {},
   "outputs": [
    {
     "name": "stdout",
     "output_type": "stream",
     "text": [
      "Number of rows/vectors are : 10\n"
     ]
    }
   ],
   "source": [
    "# 2.How many vectors exist in this vector space? (number of rows in the vector)\n",
    "\n",
    "print(\"Number of rows/vectors are :\",arrayMatrix.shape[0])"
   ]
  },
  {
   "cell_type": "code",
   "execution_count": 7,
   "metadata": {},
   "outputs": [
    {
     "name": "stdout",
     "output_type": "stream",
     "text": [
      "The Rank of a Matrix : 3\n"
     ]
    }
   ],
   "source": [
    "# 3.What is the rank of Matrix A?\n",
    "print(\"The Rank of a Matrix :\",np.linalg.matrix_rank(arrayMatrix))"
   ]
  },
  {
   "cell_type": "code",
   "execution_count": 11,
   "metadata": {},
   "outputs": [
    {
     "name": "stdout",
     "output_type": "stream",
     "text": [
      "[[386]\n",
      " [289]\n",
      " [393]\n",
      " [110]\n",
      " [280]\n",
      " [167]\n",
      " [271]\n",
      " [274]\n",
      " [148]\n",
      " [198]]\n",
      "Cost of a candy is [1.]\n",
      "Cost of a mango is [55.]\n",
      "Cost of a milk packet is [18.]\n"
     ]
    }
   ],
   "source": [
    "# Using Pseudo-Inverse find the cost of each product available for sale. \n",
    "payment = dataFrame_purchase.iloc[0:10,4]\n",
    "\n",
    "sudo_inverse = np.linalg.pinv(arrayMatrix)\n",
    "# print(sudo_inverse)\n",
    "\n",
    "\n",
    "# finding the cost of the each products available for sale\n",
    "\n",
    "ct = dataFrame_purchase.iloc[0:10, 4]\n",
    "ct_array = np.array(ct)\n",
    "ct = ct_array.reshape(10,1)\n",
    "print(ct)\n",
    "\n",
    "\n",
    "ctX = np.dot(sudo_inverse, ct)\n",
    "# print(\"Solution is \",ctX)\n",
    "\n",
    "# A2.cost of the Products available for the vendor\n",
    "print(\"Cost of a candy is\", ctX[0])\n",
    "print(\"Cost of a mango is\", ctX[1])\n",
    "print(\"Cost of a milk packet is\", ctX[2])"
   ]
  },
  {
   "cell_type": "code",
   "execution_count": 15,
   "metadata": {},
   "outputs": [
    {
     "name": "stdout",
     "output_type": "stream",
     "text": [
      "Accuracy:1.0\n",
      "New customer is :RICH\n"
     ]
    },
    {
     "name": "stderr",
     "output_type": "stream",
     "text": [
      "c:\\Python311\\Lib\\site-packages\\sklearn\\base.py:464: UserWarning: X does not have valid feature names, but DecisionTreeClassifier was fitted with feature names\n",
      "  warnings.warn(\n"
     ]
    }
   ],
   "source": [
    "# A3. Mark all customers (in “Purchase Data” table) with payments above Rs. 200 as RICH and others \n",
    "# as POOR. Develop a classifier model to categorize customers into RICH or POOR class based on \n",
    "# purchase behavior.\n",
    "\n",
    "# new_purchase = dataFrame_purchase\n",
    "# myPurchase = []\n",
    "\n",
    "# for row in dataFrame_purchase['Payment (Rs)']:\n",
    "#     if row > 200:\n",
    "#         myPurchase.append('RICH')\n",
    "#     else:\n",
    "#         myPurchase.append('POOR')\n",
    "# new_purchase['Customer_Payment_Category'] = myPurchase\n",
    "# X = new_purchase.iloc[:,1,4]\n",
    "# Y = new_purchase\n",
    "# print(new_purchase)\n",
    "# print(new_purchase['accuracy'])\n",
    "\n",
    "purchase_data['Category'] = purchase_data['Payment (Rs)'].apply(lambda x:'RICH' if x>200 else 'POOR')\n",
    "\n",
    "X = purchase_data.iloc[:,1:4]\n",
    "Y = purchase_data['Category']\n",
    "\n",
    "\n",
    "X_train, X_test,Y_train, Y_test = train_test_split(X,Y,test_size=0.20, random_state=0)\n",
    "\n",
    "classifier = DecisionTreeClassifier()\n",
    "classifier.fit(X_train, Y_train)\n",
    "\n",
    "print(f'Accuracy:{classifier.score(X_test,Y_test)}')\n",
    "prediction = classifier.predict([[5, 10, 55]]) #Predicting the result of a single observation\n",
    "print(f\"New customer is :{prediction[0]}\")"
   ]
  },
  {
   "cell_type": "code",
   "execution_count": 11,
   "metadata": {},
   "outputs": [
    {
     "name": "stdout",
     "output_type": "stream",
     "text": [
      "           Date Month  Day    Price     Open     High      Low   Volume  \\\n",
      "0  Jun 29, 2021   Jun  Tue  2081.85  2092.00  2126.90  2065.05    1.67M   \n",
      "1  Jun 28, 2021   Jun  Mon  2077.75  2084.00  2112.45  2068.40  707.73K   \n",
      "2  Jun 25, 2021   Jun  Fri  2068.85  2084.35  2088.50  2053.10  475.82K   \n",
      "3  Jun 24, 2021   Jun  Thu  2072.95  2098.00  2098.00  2066.00  541.51K   \n",
      "4  Jun 23, 2021   Jun  Wed  2078.25  2102.00  2111.40  2072.00  809.62K   \n",
      "\n",
      "     Chg%  \n",
      "0  0.0020  \n",
      "1  0.0043  \n",
      "2 -0.0020  \n",
      "3 -0.0026  \n",
      "4 -0.0023  \n",
      "[2081.85 2077.75 2068.85 2072.95 2078.25 2083.   2076.85 2011.7  2050.4\n",
      " 2089.95 2097.95 2064.4  2093.75 2106.35 2071.2  2144.85 2094.8  1921.7\n",
      " 1921.8  1917.95 1894.6  1903.2  1896.25 1928.35 1894.05 1907.95 1884.5\n",
      " 1862.   1855.65 1858.1  1835.05 1762.1  1747.65 1746.6  1792.3  1748.65\n",
      " 1693.4  1725.2  1723.65 1770.2  1765.55 1791.4  1792.55 1795.85 1793.2\n",
      " 1730.85 1712.   1673.05 1640.05 1612.7  1627.45 1608.1  1611.65 1582.\n",
      " 1730.9  1726.4  1709.   1688.55 1702.65 1751.75 1757.   1755.25 1747.4\n",
      " 1721.85 1760.55 1842.15 1838.05 1855.45 1766.65 1824.   1904.05 1947.05\n",
      " 1987.35 2018.5  2026.7  2015.45 1940.85 1961.1  1886.1  1897.65 1938.45\n",
      " 1759.65 1726.95 1675.45 1632.9  1615.85 1675.4  1701.2  1698.65 1674.15\n",
      " 1713.1  1731.9  1619.   1618.4  1641.75 1618.7  1555.   1518.9  1469.35\n",
      " 1470.5  1459.9  1456.1  1457.05 1438.25 1426.25 1432.45 1454.5  1452.7\n",
      " 1443.5  1423.35 1441.2  1463.1  1461.15 1480.45 1460.7  1471.5  1489.45\n",
      " 1483.45 1456.85 1451.05 1445.   1437.8  1434.95 1410.8  1417.95 1408.95\n",
      " 1411.55 1399.05 1373.5  1424.5  1424.85 1423.4  1441.   1479.   1421.\n",
      " 1452.75 1617.75 1648.5  1691.55 1570.6  1378.05 1349.9  1358.1  1353.45\n",
      " 1351.35 1353.9  1362.3  1362.35 1381.15 1376.05 1365.3  1380.3  1389.25\n",
      " 1381.45 1371.25 1374.35 1312.85 1311.2  1310.4  1300.55 1301.45 1302.25\n",
      " 1315.2  1330.6  1333.35 1326.   1320.65 1327.95 1327.75 1331.75 1332.2\n",
      " 1326.9  1328.1  1329.5  1338.05 1336.5  1334.65 1351.   1355.6  1356.9\n",
      " 1363.85 1376.05 1379.3  1384.   1383.35 1367.05 1352.05 1338.85 1372.85\n",
      " 1355.7  1397.35 1405.35 1370.7  1367.4  1369.8  1367.85 1370.55 1370.85\n",
      " 1348.9  1379.45 1414.85 1365.2  1368.7  1359.75 1351.5  1344.25 1366.5\n",
      " 1367.5  1369.3  1341.75 1338.1  1341.8  1347.05 1361.8  1377.65 1383.55\n",
      " 1368.6  1384.1  1386.8  1372.05 1323.75 1331.35 1334.55 1336.95 1339.8\n",
      " 1339.7  1335.85 1340.7  1352.75 1345.55 1344.85 1357.85 1371.5  1372.95\n",
      " 1390.2  1376.45 1370.95 1364.2  1351.95 1362.15 1397.35 1400.95 1385.05\n",
      " 1390.1  1397.4  1400.75 1405.1  1412.35 1363.05]\n"
     ]
    }
   ],
   "source": [
    "# >>>>>>>>>>>>>>IRCTC Stock Price<<<<<<<<<<<<<<<<<<<\n",
    "import pandas as pd\n",
    "\n",
    "# Reading the irctc_data\n",
    "irctc_data = pd.read_excel(\"./data.xlsx\", sheet_name=\"IRCTC Stock Price\")\n",
    "\n",
    "# Framing the irctc data\n",
    "dataFrame_irctc = pd.DataFrame(irctc_data)\n",
    "\n",
    "# Printing the first 5 rows of the data\n",
    "print(dataFrame_irctc.head())\n",
    "# Printing the Price section\n",
    "price_D = dataFrame_irctc.iloc[0:256, 3]\n",
    "price_Array = np.array(price_D)\n",
    "print(price_Array)\n",
    "\n"
   ]
  },
  {
   "cell_type": "code",
   "execution_count": 16,
   "metadata": {},
   "outputs": [
    {
     "name": "stdout",
     "output_type": "stream",
     "text": [
      "Mean of the Price data is : 1560.663453815261\n",
      "variance of the Price data is : 58732.365352539186\n"
     ]
    }
   ],
   "source": [
    "# Calculating the mean and variance of Price data of IRCTC.\n",
    "irctc_mean = statistics.mean(irctc_data[\"Price\"])\n",
    "print(\"Mean of the Price data is :\",irctc_mean)\n",
    "\n",
    "irctc_variance = statistics.variance(irctc_data[\"Price\"])\n",
    "print(\"variance of the Price data is :\",irctc_variance)"
   ]
  },
  {
   "cell_type": "code",
   "execution_count": 20,
   "metadata": {},
   "outputs": [
    {
     "name": "stdout",
     "output_type": "stream",
     "text": [
      "Mean of Wednesday Price Data is : 1550.706\n",
      "After Comparing the mean we came to know that Sales at IRCTC is slightly less during wednesday compared to average\n"
     ]
    }
   ],
   "source": [
    "# Select the price data for all Wednesdays and calculate the sample mean. Compare the mean \n",
    "# mean with the population mean and note your observations.\n",
    "\n",
    "Wed_Data = irctc_data[irctc_data[\"Day\"]==\"Wed\"]\n",
    "Wed_Data_Mean = statistics.mean(Wed_Data[\"Price\"])\n",
    "print(\"Mean of Wednesday Price Data is :\",Wed_Data_Mean)\n",
    "print(\"After Comparing the mean we came to know that Sales at IRCTC is slightly less during wednesday compared to average\")\n"
   ]
  },
  {
   "cell_type": "code",
   "execution_count": 22,
   "metadata": {},
   "outputs": [
    {
     "name": "stdout",
     "output_type": "stream",
     "text": [
      "The April Mean Price is:  1698.9526315789474\n",
      "After Comparing the mean we came to know that Sales at IRCTC is slightly higher during April month compared to average\n"
     ]
    }
   ],
   "source": [
    "#  Select the price data for the month of Apr and calculate the sample mean. Compare the \n",
    "# mean with the population mean and note your observations.\n",
    "\n",
    "April_Data = irctc_data[irctc_data[\"Month\"]==\"Apr\"]\n",
    "April_Data_Mean = statistics.mean(April_Data[\"Price\"])\n",
    "print(\"The April Mean Price is: \", April_Data_Mean)\n",
    "\n",
    "print(\"After Comparing the mean we came to know that Sales at IRCTC is slightly higher during April month compared to average\")"
   ]
  },
  {
   "cell_type": "code",
   "execution_count": 25,
   "metadata": {},
   "outputs": [
    {
     "name": "stdout",
     "output_type": "stream",
     "text": [
      "Probability of making a loss over the stock is : 0.4979919678714859\n"
     ]
    }
   ],
   "source": [
    "#  From the Chg% (available in column I) find the probability of making a loss over the stock. \n",
    "# (Suggestion: use lambda function to find negative values)\n",
    "\n",
    "# iterrow is a builtin method in pandas which allowing us to iterate each row in the DataFrame. where as shape[0] gives the total number of rows.\n",
    "total_neg = 0\n",
    "for index,row in dataFrame_irctc.iterrows():\n",
    "    if row['Chg%'] <0:\n",
    "        total_neg+=1\n",
    "\n",
    "print(\"Probability of making a loss over the stock is :\", total_neg/dataFrame_irctc.shape[0])"
   ]
  },
  {
   "cell_type": "code",
   "execution_count": 26,
   "metadata": {},
   "outputs": [
    {
     "name": "stdout",
     "output_type": "stream",
     "text": [
      "Probability of making a Profit on wednesday is : 0.42\n"
     ]
    }
   ],
   "source": [
    "# Calculate the probability of making a profit on Wednesday.\n",
    "Total_Prof = 0\n",
    "Total_Wed = 0\n",
    "\n",
    "for index,row in dataFrame_irctc.iterrows():\n",
    "    if row['Day']==\"Wed\":\n",
    "        if row['Chg%']>0:\n",
    "            Total_Prof+=1\n",
    "        Total_Wed+=1\n",
    "\n",
    "print(\"Probability of making a Profit on wednesday is :\",Total_Prof/Total_Wed)       "
   ]
  },
  {
   "cell_type": "code",
   "execution_count": 29,
   "metadata": {},
   "outputs": [
    {
     "data": {
      "image/png": "[encoded data removed]",
      "text/plain": [
       "<Figure size 640x480 with 1 Axes>"
      ]
     },
     "metadata": {},
     "output_type": "display_data"
    }
   ],
   "source": [
    "# Make a scatter plot of Chg% data against the day of the week\n",
    "\n",
    "# A scatter plot is a diagram where each value in the data set is represented by a dot and to use it we need to install matplotlib and import matplotlib.pyplot as plt.\n",
    "\n",
    "import matplotlib.pyplot as plt\n",
    "\n",
    "Day_Data = []\n",
    "Chg_data =[]\n",
    "\n",
    "for index, row in dataFrame_irctc.iterrows():\n",
    "    Day_Data.append(row['Day'])\n",
    "    Chg_data.append(row['Chg%'])\n",
    "\n",
    "plt.scatter(Day_Data, Chg_data)\n",
    "plt.show()\n"
   ]
  }
 ],
 "metadata": {
  "kernelspec": {
   "display_name": "Python 3",
   "language": "python",
   "name": "python3"
  },
  "language_info": {
   "codemirror_mode": {
    "name": "ipython",
    "version": 3
   },
   "file_extension": ".py",
   "mimetype": "text/x-python",
   "name": "python",
   "nbconvert_exporter": "python",
   "pygments_lexer": "ipython3",
   "version": "3.11.0"
  },
  "orig_nbformat": 4
 },
 "nbformat": 4,
 "nbformat_minor": 2
}
