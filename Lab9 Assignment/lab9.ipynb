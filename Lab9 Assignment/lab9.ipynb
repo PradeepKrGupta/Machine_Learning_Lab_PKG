{
 "cells": [
  {
   "cell_type": "code",
   "execution_count": null,
   "metadata": {},
   "outputs": [],
   "source": [
    "# A1. Merge your train & test sets and remove the class labels. Use k-means algorithm with k = 3 or 5 \n",
    "# (based on your dataset) to form the clusters."
   ]
  }
 ],
 "metadata": {
  "language_info": {
   "name": "python"
  }
 },
 "nbformat": 4,
 "nbformat_minor": 2
}
