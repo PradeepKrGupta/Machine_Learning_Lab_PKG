{
 "cells": [
  {
   "cell_type": "code",
   "execution_count": null,
   "metadata": {},
   "outputs": [],
   "source": [
    "# writing the dependencies\n",
    "import pandas as pd\n",
    "import numpy as np\n",
    "df = pd.read_csv('./')"
   ]
  },
  {
   "cell_type": "code",
   "execution_count": null,
   "metadata": {},
   "outputs": [],
   "source": [
    "# A1. Train a support vector machine using the training set obtained from above exerciseyou’re your\n",
    "# dataset has multiple classes, take any two classes for this exercise. Following code for help:\n",
    "\n",
    "\n",
    "\n",
    "# import numpy as np\n",
    "# from sklearn import svm\n",
    "# clf = svm.SVC()\n",
    "# clf.fit(X_train, y_train)"
   ]
  }
 ],
 "metadata": {
  "language_info": {
   "name": "python"
  }
 },
 "nbformat": 4,
 "nbformat_minor": 2
}
