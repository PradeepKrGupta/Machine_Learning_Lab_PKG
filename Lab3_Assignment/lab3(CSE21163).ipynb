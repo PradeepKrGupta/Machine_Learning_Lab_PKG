{
 "cells": [
  {
   "cell_type": "code",
   "execution_count": 2,
   "metadata": {},
   "outputs": [],
   "source": [
    "# importing all the dependencies\n",
    "import numpy as np\n",
    "import pandas as pd\n",
    "import matplotlib.pyplot as plt\n",
    "import math\n"
   ]
  },
  {
   "cell_type": "code",
   "execution_count": 3,
   "metadata": {},
   "outputs": [
    {
     "data": {
      "text/html": [
       "<div>\n",
       "<style scoped>\n",
       "    .dataframe tbody tr th:only-of-type {\n",
       "        vertical-align: middle;\n",
       "    }\n",
       "\n",
       "    .dataframe tbody tr th {\n",
       "        vertical-align: top;\n",
       "    }\n",
       "\n",
       "    .dataframe thead th {\n",
       "        text-align: right;\n",
       "    }\n",
       "</style>\n",
       "<table border=\"1\" class=\"dataframe\">\n",
       "  <thead>\n",
       "    <tr style=\"text-align: right;\">\n",
       "      <th></th>\n",
       "      <th>filename</th>\n",
       "      <th>width</th>\n",
       "      <th>height</th>\n",
       "      <th>class</th>\n",
       "      <th>xmin</th>\n",
       "      <th>ymin</th>\n",
       "      <th>xmax</th>\n",
       "      <th>ymax</th>\n",
       "    </tr>\n",
       "  </thead>\n",
       "  <tbody>\n",
       "    <tr>\n",
       "      <th>0</th>\n",
       "      <td>a_846_jpg.rf.16ae5101af82219ebb320a9848f8ad80.jpg</td>\n",
       "      <td>720</td>\n",
       "      <td>404</td>\n",
       "      <td>6</td>\n",
       "      <td>138</td>\n",
       "      <td>11</td>\n",
       "      <td>295</td>\n",
       "      <td>211</td>\n",
       "    </tr>\n",
       "    <tr>\n",
       "      <th>1</th>\n",
       "      <td>a_144_jpg.rf.1e2dff958e04ae1f6ce93627c8ef281a.jpg</td>\n",
       "      <td>720</td>\n",
       "      <td>404</td>\n",
       "      <td>11</td>\n",
       "      <td>135</td>\n",
       "      <td>285</td>\n",
       "      <td>278</td>\n",
       "      <td>375</td>\n",
       "    </tr>\n",
       "    <tr>\n",
       "      <th>2</th>\n",
       "      <td>a_124_jpg.rf.157aebd9cf9c92cc819b6ec92a7183fd.jpg</td>\n",
       "      <td>720</td>\n",
       "      <td>404</td>\n",
       "      <td>10</td>\n",
       "      <td>222</td>\n",
       "      <td>316</td>\n",
       "      <td>437</td>\n",
       "      <td>402</td>\n",
       "    </tr>\n",
       "    <tr>\n",
       "      <th>3</th>\n",
       "      <td>no_9_jpg.rf.207063dcdefd0a9c4c30d682c6bb5d9b.jpg</td>\n",
       "      <td>2304</td>\n",
       "      <td>1440</td>\n",
       "      <td>10</td>\n",
       "      <td>864</td>\n",
       "      <td>980</td>\n",
       "      <td>1424</td>\n",
       "      <td>1206</td>\n",
       "    </tr>\n",
       "    <tr>\n",
       "      <th>4</th>\n",
       "      <td>surgery_5_jpg.rf.14697c20b72556a364ce21b3ab930...</td>\n",
       "      <td>2304</td>\n",
       "      <td>1440</td>\n",
       "      <td>13</td>\n",
       "      <td>1129</td>\n",
       "      <td>750</td>\n",
       "      <td>1516</td>\n",
       "      <td>994</td>\n",
       "    </tr>\n",
       "    <tr>\n",
       "      <th>5</th>\n",
       "      <td>a_933_jpg.rf.14b069909e8faef35f91cf0173c84bf0.jpg</td>\n",
       "      <td>720</td>\n",
       "      <td>404</td>\n",
       "      <td>11</td>\n",
       "      <td>172</td>\n",
       "      <td>212</td>\n",
       "      <td>268</td>\n",
       "      <td>276</td>\n",
       "    </tr>\n",
       "    <tr>\n",
       "      <th>6</th>\n",
       "      <td>a_311_jpg.rf.2544fe462a2807b99b05fedaf5c49e72.jpg</td>\n",
       "      <td>720</td>\n",
       "      <td>404</td>\n",
       "      <td>6</td>\n",
       "      <td>160</td>\n",
       "      <td>34</td>\n",
       "      <td>334</td>\n",
       "      <td>252</td>\n",
       "    </tr>\n",
       "    <tr>\n",
       "      <th>7</th>\n",
       "      <td>a_123_jpg.rf.2389dca6f0653e955bb7d04f5a585037.jpg</td>\n",
       "      <td>720</td>\n",
       "      <td>404</td>\n",
       "      <td>10</td>\n",
       "      <td>231</td>\n",
       "      <td>269</td>\n",
       "      <td>426</td>\n",
       "      <td>386</td>\n",
       "    </tr>\n",
       "    <tr>\n",
       "      <th>8</th>\n",
       "      <td>a_173_jpg.rf.23ff24582f38cad8e1126017b5688029.jpg</td>\n",
       "      <td>720</td>\n",
       "      <td>404</td>\n",
       "      <td>13</td>\n",
       "      <td>290</td>\n",
       "      <td>254</td>\n",
       "      <td>453</td>\n",
       "      <td>404</td>\n",
       "    </tr>\n",
       "    <tr>\n",
       "      <th>9</th>\n",
       "      <td>a_899_jpg.rf.23dff9b5995099519d4478f0c89342ee.jpg</td>\n",
       "      <td>720</td>\n",
       "      <td>404</td>\n",
       "      <td>9</td>\n",
       "      <td>285</td>\n",
       "      <td>169</td>\n",
       "      <td>390</td>\n",
       "      <td>297</td>\n",
       "    </tr>\n",
       "  </tbody>\n",
       "</table>\n",
       "</div>"
      ],
      "text/plain": [
       "                                            filename  width  height  class  \\\n",
       "0  a_846_jpg.rf.16ae5101af82219ebb320a9848f8ad80.jpg    720     404      6   \n",
       "1  a_144_jpg.rf.1e2dff958e04ae1f6ce93627c8ef281a.jpg    720     404     11   \n",
       "2  a_124_jpg.rf.157aebd9cf9c92cc819b6ec92a7183fd.jpg    720     404     10   \n",
       "3   no_9_jpg.rf.207063dcdefd0a9c4c30d682c6bb5d9b.jpg   2304    1440     10   \n",
       "4  surgery_5_jpg.rf.14697c20b72556a364ce21b3ab930...   2304    1440     13   \n",
       "5  a_933_jpg.rf.14b069909e8faef35f91cf0173c84bf0.jpg    720     404     11   \n",
       "6  a_311_jpg.rf.2544fe462a2807b99b05fedaf5c49e72.jpg    720     404      6   \n",
       "7  a_123_jpg.rf.2389dca6f0653e955bb7d04f5a585037.jpg    720     404     10   \n",
       "8  a_173_jpg.rf.23ff24582f38cad8e1126017b5688029.jpg    720     404     13   \n",
       "9  a_899_jpg.rf.23dff9b5995099519d4478f0c89342ee.jpg    720     404      9   \n",
       "\n",
       "   xmin  ymin  xmax  ymax  \n",
       "0   138    11   295   211  \n",
       "1   135   285   278   375  \n",
       "2   222   316   437   402  \n",
       "3   864   980  1424  1206  \n",
       "4  1129   750  1516   994  \n",
       "5   172   212   268   276  \n",
       "6   160    34   334   252  \n",
       "7   231   269   426   386  \n",
       "8   290   254   453   404  \n",
       "9   285   169   390   297  "
      ]
     },
     "execution_count": 3,
     "metadata": {},
     "output_type": "execute_result"
    }
   ],
   "source": [
    "# Loading the dataSet\n",
    "df = pd.read_csv('./_annotations.csv')\n",
    "df.head(10)"
   ]
  },
  {
   "cell_type": "code",
   "execution_count": 4,
   "metadata": {},
   "outputs": [
    {
     "name": "stdout",
     "output_type": "stream",
     "text": [
      "Mean of width: 1191.6404494382023, height :712.4719101123595, class :7.544943820224719, xmin :444.2022471910112, ymin :311.89325842696627, xmax :646.6910112359551, ymax :516.4662921348314\n"
     ]
    }
   ],
   "source": [
    "# A1. Evaluate the intraclass spread and interclass distances between the classes in your dataset. If \n",
    "# your data deals with multiple classes, you can take any two classes. Steps below (refer below \n",
    "# diagram for understanding):\n",
    "\n",
    "# 1. Calculate the mean for each class (also called as class centroid)\n",
    "# (Suggestion: You may use numpy.mean() function for finding the average vector for all \n",
    "# vectors in a given class. Please def\n",
    "\n",
    "\n",
    "width_mean = df['width'].mean()\n",
    "height_mean = df['height'].mean()\n",
    "class_mean = df['class'].mean()\n",
    "xmin_mean = df['xmin'].mean()\n",
    "ymin_mean = df['ymin'].mean()\n",
    "xmax_mean = df['xmax'].mean()\n",
    "ymax_mean = df['ymax'].mean()\n",
    "\n",
    "print(f\"Mean of width: {width_mean}, height :{height_mean}, class :{class_mean}, xmin :{xmin_mean}, ymin :{ymin_mean}, xmax :{xmax_mean}, ymax :{ymax_mean}\")"
   ]
  },
  {
   "cell_type": "code",
   "execution_count": 5,
   "metadata": {},
   "outputs": [
    {
     "name": "stdout",
     "output_type": "stream",
     "text": [
      "Standard Deviation of width: 724.3160624781443, height :473.73197015616, class :4.0972314915952985, xmin :329.2429921199822, ymin :247.5994065710305, xmax :413.87057634500417, ymax :329.8411117131086\n"
     ]
    }
   ],
   "source": [
    "# 2• Calculate spread (standard deviation) for each class\n",
    "# (Suggestion: You may use numpy.std() function for finding the standard deviation vector \n",
    "# for all vectors in a given class. Please define the axis property appropriately to use this \n",
    "# function.)\n",
    "\n",
    "\n",
    "\n",
    "width_std = np.std(df['width'])\n",
    "height_std = np.std(df['height'])\n",
    "class_std = np.std(df['class'])\n",
    "xmin_std =np.std(df['xmin'])\n",
    "ymin_std =np.std(df['ymin'])\n",
    "xmax_std =np.std(df['xmax'])\n",
    "ymax_std =np.std(df['ymax'])\n",
    "\n",
    "print(f\"Standard Deviation of width: {width_std}, height :{height_std}, class :{class_std}, xmin :{xmin_std}, ymin :{ymin_std}, xmax :{xmax_std}, ymax :{ymax_std}\")"
   ]
  },
  {
   "cell_type": "code",
   "execution_count": 6,
   "metadata": {},
   "outputs": [
    {
     "name": "stdout",
     "output_type": "stream",
     "text": [
      "7.544943820224719\n",
      "Distance between class 10 and class 11 centroids: 209.33287803527332\n"
     ]
    }
   ],
   "source": [
    "#3.Calculate the distance between mean vectors between classes\n",
    "# (Suggestion: numpy.linalg.norm(centroid1 – centroid2) gives the Euclidean \n",
    "# distance between two centroids.)\n",
    "\n",
    "\n",
    "# Calculate mean vectors (centroids) for each class\n",
    "class_means = df.groupby('class')[['xmin', 'ymin', 'xmax', 'ymax']].mean()\n",
    "\n",
    "print(class_mean)\n",
    "\n",
    "# Specify the classes for which you want to calculate the distance\n",
    "class1 = 10\n",
    "class2 = 11\n",
    "\n",
    "# Calculate the Euclidean distance between centroids\n",
    "centroid1 = class_means.loc[class1].values\n",
    "centroid2 = class_means.loc[class2].values\n",
    "distance = np.linalg.norm(centroid1 - centroid2)\n",
    "\n",
    "print(f\"Distance between class {class1} and class {class2} centroids: {distance}\")\n"
   ]
  },
  {
   "cell_type": "code",
   "execution_count": 7,
   "metadata": {},
   "outputs": [
    {
     "data": {
      "image/png": "[encoded data removed]",
      "text/plain": [
       "<Figure size 640x480 with 1 Axes>"
      ]
     },
     "metadata": {},
     "output_type": "display_data"
    }
   ],
   "source": [
    "# A2. Take any feature from your dataset. Observe the density pattern for that feature by plotting the \n",
    "# histogram. Use buckets (data in ranges) for histogram generation and study. Calculate the mean and \n",
    "# variance from the available data. \n",
    "# (Suggestion: numpy.histogram()gives the histogram data. Plot of histogram may be \n",
    "# achieved with matplotlib.pyplot.hist())\n",
    "\n",
    "\n",
    "width_values = df['width']\n",
    "width_values\n",
    "\n",
    "\n",
    "# Generating a histogram with 179 bins \n",
    "hist, bins = np.histogram(width_values, bins=10)\n",
    "\n",
    "# calculating the mean and variance of the width value\n",
    "mean_width = np.mean(width_values)\n",
    "variance_width = np.var(width_values)\n",
    "\n",
    "# Display mean and variance\n",
    "plt.text(0.7, 0.9, f'Mean: {mean_width:.2f}', transform=plt.gca().transAxes)\n",
    "plt.text(0.7, 0.85, f'Variance: {variance_width:.2f}', transform=plt.gca().transAxes)\n",
    "\n",
    "# Now ploting the histogram\n",
    "plt.hist(width_values, bins=10, edgecolor='black', alpha=0.7)\n",
    "plt.xlabel('Width')\n",
    "plt.ylabel('Frequency')\n",
    "plt.title('Histogram of Width')\n",
    "plt.grid(True)\n",
    "\n",
    "plt.show()\n",
    "\n"
   ]
  },
  {
   "cell_type": "code",
   "execution_count": 8,
   "metadata": {},
   "outputs": [
    {
     "name": "stderr",
     "output_type": "stream",
     "text": [
      "C:\\Users\\PRADEEP\\AppData\\Local\\Temp\\ipykernel_5400\\700680447.py:11: RuntimeWarning: invalid value encountered in scalar power\n",
      "  distance = np.power(np.abs(vector1 - vector2), r).sum() ** (1 / r)\n",
      "C:\\Users\\PRADEEP\\AppData\\Local\\Temp\\ipykernel_5400\\700680447.py:11: RuntimeWarning: invalid value encountered in scalar power\n",
      "  distance = np.power(np.abs(vector1 - vector2), r).sum() ** (1 / r)\n",
      "C:\\Users\\PRADEEP\\AppData\\Local\\Temp\\ipykernel_5400\\700680447.py:11: RuntimeWarning: invalid value encountered in scalar power\n",
      "  distance = np.power(np.abs(vector1 - vector2), r).sum() ** (1 / r)\n"
     ]
    },
    {
     "data": {
      "image/png": "[encoded data removed]",
      "text/plain": [
       "<Figure size 640x480 with 1 Axes>"
      ]
     },
     "metadata": {},
     "output_type": "display_data"
    }
   ],
   "source": [
    "# A3. Take any two feature vectors from your dataset. Calculate the Minkwoski distance with r from 1 \n",
    "# to 10. Make a plot of the distance and observe the nature of this graph.\n",
    "\n",
    "vector1 = df['xmax']\n",
    "vector2 = df['ymax']\n",
    "\n",
    "# Defining the function to calculate the Minkowski distance\n",
    "distances = []\n",
    "r_values = np.arange(1, 11)\n",
    "for r in r_values:\n",
    "    distance = np.power(np.abs(vector1 - vector2), r).sum() ** (1 / r)\n",
    "    distances.append(distance)\n",
    "\n",
    "\n",
    "# plot the distance\n",
    "plt.plot(r_values, distances, marker='o', linestyle='-')\n",
    "plt.xlabel('r')\n",
    "plt.ylabel('Minkowski Distance')\n",
    "plt.title('Minkowski Distance vs. r')\n",
    "plt.grid(True)\n",
    "plt.show()"
   ]
  },
  {
   "cell_type": "code",
   "execution_count": 9,
   "metadata": {},
   "outputs": [
    {
     "name": "stdout",
     "output_type": "stream",
     "text": [
      "X_train :     width  height  xmin  ymin  xmax  ymax\n",
      "125    720     404   300   196   478   307\n",
      "160   2304    1440   792   850   992  1104\n",
      "167    720     404   273   154   395   299\n",
      "162    720     404   276   211   452   335\n",
      "131    720     404   268   196   399   289\n",
      "..     ...     ...   ...   ...   ...   ...\n",
      "39    2304    1440   851   962  1512  1220\n",
      "93     720     404   297   163   400   325\n",
      "56    2304    1440  1109   762  1510  1024\n",
      "158    720     404   277   222   431   330\n",
      "66    2304    1440   935   586  1239  1006\n",
      "\n",
      "[124 rows x 6 columns]\n",
      "X_test :     width  height  xmin  ymin  xmax  ymax\n",
      "98    2304    1440   835   974  1440  1214\n",
      "20    2304    1440  1014   806  1293  1112\n",
      "130   2304    1440   986   368  1134   830\n",
      "2      720     404   222   316   437   402\n",
      "116   2304    1440   805   876   989  1076\n",
      "147   2304    1440   850   530  1174  1078\n",
      "9      720     404   285   169   390   297\n",
      "41     720     404   141    24   304   214\n",
      "100   2304    1440   956   506  1156  1036\n",
      "43     720     404   236   272   384   381\n",
      "38    2304    1440   695   270   970   934\n",
      "33    2304    1440  1093   748  1534  1008\n",
      "13     720     404   163   293   493   378\n",
      "1      720     404   135   285   278   375\n",
      "91     720     404   204   101   271   294\n",
      "145    720     404   198    62   298   155\n",
      "126   2304    1440   911   530  1260   928\n",
      "24     720     404   286   247   406   395\n",
      "25    2304    1440  1070   482  1462   934\n",
      "58     720     404   286   182   363   308\n",
      "86    2304    1440   769   308  1068   572\n",
      "143    720     404   289   216   456   343\n",
      "65     720     404   188   282   446   391\n",
      "71     720     404   302   174   443   268\n",
      "118    720     404   276   236   471   336\n",
      "97    2304    1440  1084   556  1471   986\n",
      "175   2304    1440  1017   188  1381   702\n",
      "177    720     404   254   155   416   258\n",
      "80     720     404   269   191   459   330\n",
      "148    720     404   209    65   289   279\n",
      "113   2304    1440  1087   492  1433   930\n",
      "153   2304    1440   992   788  1230  1126\n",
      "11    2304    1440   990   384  1130   828\n",
      "8      720     404   290   254   453   404\n",
      "127    720     404   272   173   367   313\n",
      "26     720     404   166    86   283   288\n",
      "22    2304    1440   949   698  1257  1006\n",
      "36    2304    1440  1093   740  1534  1000\n",
      "129    720     404   287   232   365   376\n",
      "104    720     404   264   248   388   404\n",
      "23    2304    1440   706   272   983   944\n",
      "168    720     404   304   219   470   319\n",
      "70    2304    1440   790   334  1060   572\n",
      "88     720     404   267   149   438   243\n",
      "163    720     404   275   236   451   353\n",
      "17     720     404   245   138   381   276\n",
      "144    720     404   284   256   375   386\n",
      "102    720     404   205   112   367   336\n",
      "7      720     404   231   269   426   386\n",
      "35    2304    1440   706   270   983   986\n",
      "89     720     404   296   213   472   334\n",
      "133   2304    1440  1003   818  1280  1152\n",
      "149    720     404   278   193   448   327\n",
      "141    720     404   283   183   368   308\n",
      "y_train :125     9\n",
      "160    11\n",
      "167     9\n",
      "162     8\n",
      "131    13\n",
      "       ..\n",
      "39      2\n",
      "93      9\n",
      "56     13\n",
      "158    13\n",
      "66      1\n",
      "Name: class, Length: 124, dtype: int64\n",
      "y_test :98     10\n",
      "20      9\n",
      "130     5\n",
      "2      10\n",
      "116    11\n",
      "147    12\n",
      "9       9\n",
      "41      6\n",
      "100    12\n",
      "43      1\n",
      "38      6\n",
      "33     13\n",
      "13      2\n",
      "1      11\n",
      "91      5\n",
      "145     4\n",
      "126     1\n",
      "24      9\n",
      "25      8\n",
      "58      3\n",
      "86      4\n",
      "143     8\n",
      "65     10\n",
      "71     13\n",
      "118    13\n",
      "97      8\n",
      "175     6\n",
      "177     8\n",
      "80     13\n",
      "148     5\n",
      "113     8\n",
      "153     3\n",
      "11      5\n",
      "8      13\n",
      "127     3\n",
      "26      5\n",
      "22      1\n",
      "36     13\n",
      "129     3\n",
      "104     7\n",
      "23      6\n",
      "168     9\n",
      "70      4\n",
      "88     13\n",
      "163     8\n",
      "17      1\n",
      "144     3\n",
      "102    12\n",
      "7      10\n",
      "35      6\n",
      "89     13\n",
      "133     9\n",
      "149    13\n",
      "141     3\n",
      "Name: class, dtype: int64\n"
     ]
    }
   ],
   "source": [
    "# A4. Divide dataset in your project into two parts – train & test set. To accomplish this, use the train\u0002test_split() function available in SciKit. See below sample code for help:\n",
    "# >>> import numpy as np\n",
    "# >>> from sklearn.model_selection import train_test_split\n",
    "# >>> X_train, X_test, y_train, y_test = train_test_split(X, y, test_size=0.3)\n",
    "\n",
    "\n",
    "from sklearn.model_selection import train_test_split\n",
    "list = ['width','height','xmin','ymin','xmax','ymax']\n",
    "X = df[list]\n",
    "y = df[\"class\"]  \n",
    "\n",
    "X_train , X_test ,y_train  , y_test   = train_test_split(X,y,test_size=0.3)\n",
    "\n",
    "\n",
    "print(f\"X_train :{X_train}\")\n",
    "print(f\"X_test :{X_test}\")\n",
    "print(f\"y_train :{y_train}\")\n",
    "print(f\"y_test :{y_test}\")\n"
   ]
  },
  {
   "cell_type": "code",
   "execution_count": 10,
   "metadata": {},
   "outputs": [
    {
     "data": {
      "text/html": [
       "<style>#sk-container-id-1 {color: black;background-color: white;}#sk-container-id-1 pre{padding: 0;}#sk-container-id-1 div.sk-toggleable {background-color: white;}#sk-container-id-1 label.sk-toggleable__label {cursor: pointer;display: block;width: 100%;margin-bottom: 0;padding: 0.3em;box-sizing: border-box;text-align: center;}#sk-container-id-1 label.sk-toggleable__label-arrow:before {content: \"▸\";float: left;margin-right: 0.25em;color: #696969;}#sk-container-id-1 label.sk-toggleable__label-arrow:hover:before {color: black;}#sk-container-id-1 div.sk-estimator:hover label.sk-toggleable__label-arrow:before {color: black;}#sk-container-id-1 div.sk-toggleable__content {max-height: 0;max-width: 0;overflow: hidden;text-align: left;background-color: #f0f8ff;}#sk-container-id-1 div.sk-toggleable__content pre {margin: 0.2em;color: black;border-radius: 0.25em;background-color: #f0f8ff;}#sk-container-id-1 input.sk-toggleable__control:checked~div.sk-toggleable__content {max-height: 200px;max-width: 100%;overflow: auto;}#sk-container-id-1 input.sk-toggleable__control:checked~label.sk-toggleable__label-arrow:before {content: \"▾\";}#sk-container-id-1 div.sk-estimator input.sk-toggleable__control:checked~label.sk-toggleable__label {background-color: #d4ebff;}#sk-container-id-1 div.sk-label input.sk-toggleable__control:checked~label.sk-toggleable__label {background-color: #d4ebff;}#sk-container-id-1 input.sk-hidden--visually {border: 0;clip: rect(1px 1px 1px 1px);clip: rect(1px, 1px, 1px, 1px);height: 1px;margin: -1px;overflow: hidden;padding: 0;position: absolute;width: 1px;}#sk-container-id-1 div.sk-estimator {font-family: monospace;background-color: #f0f8ff;border: 1px dotted black;border-radius: 0.25em;box-sizing: border-box;margin-bottom: 0.5em;}#sk-container-id-1 div.sk-estimator:hover {background-color: #d4ebff;}#sk-container-id-1 div.sk-parallel-item::after {content: \"\";width: 100%;border-bottom: 1px solid gray;flex-grow: 1;}#sk-container-id-1 div.sk-label:hover label.sk-toggleable__label {background-color: #d4ebff;}#sk-container-id-1 div.sk-serial::before {content: \"\";position: absolute;border-left: 1px solid gray;box-sizing: border-box;top: 0;bottom: 0;left: 50%;z-index: 0;}#sk-container-id-1 div.sk-serial {display: flex;flex-direction: column;align-items: center;background-color: white;padding-right: 0.2em;padding-left: 0.2em;position: relative;}#sk-container-id-1 div.sk-item {position: relative;z-index: 1;}#sk-container-id-1 div.sk-parallel {display: flex;align-items: stretch;justify-content: center;background-color: white;position: relative;}#sk-container-id-1 div.sk-item::before, #sk-container-id-1 div.sk-parallel-item::before {content: \"\";position: absolute;border-left: 1px solid gray;box-sizing: border-box;top: 0;bottom: 0;left: 50%;z-index: -1;}#sk-container-id-1 div.sk-parallel-item {display: flex;flex-direction: column;z-index: 1;position: relative;background-color: white;}#sk-container-id-1 div.sk-parallel-item:first-child::after {align-self: flex-end;width: 50%;}#sk-container-id-1 div.sk-parallel-item:last-child::after {align-self: flex-start;width: 50%;}#sk-container-id-1 div.sk-parallel-item:only-child::after {width: 0;}#sk-container-id-1 div.sk-dashed-wrapped {border: 1px dashed gray;margin: 0 0.4em 0.5em 0.4em;box-sizing: border-box;padding-bottom: 0.4em;background-color: white;}#sk-container-id-1 div.sk-label label {font-family: monospace;font-weight: bold;display: inline-block;line-height: 1.2em;}#sk-container-id-1 div.sk-label-container {text-align: center;}#sk-container-id-1 div.sk-container {/* jupyter's `normalize.less` sets `[hidden] { display: none; }` but bootstrap.min.css set `[hidden] { display: none !important; }` so we also need the `!important` here to be able to override the default hidden behavior on the sphinx rendered scikit-learn.org. See: https://github.com/scikit-learn/scikit-learn/issues/21755 */display: inline-block !important;position: relative;}#sk-container-id-1 div.sk-text-repr-fallback {display: none;}</style><div id=\"sk-container-id-1\" class=\"sk-top-container\"><div class=\"sk-text-repr-fallback\"><pre>KNeighborsClassifier(n_neighbors=3)</pre><b>In a Jupyter environment, please rerun this cell to show the HTML representation or trust the notebook. <br />On GitHub, the HTML representation is unable to render, please try loading this page with nbviewer.org.</b></div><div class=\"sk-container\" hidden><div class=\"sk-item\"><div class=\"sk-estimator sk-toggleable\"><input class=\"sk-toggleable__control sk-hidden--visually\" id=\"sk-estimator-id-1\" type=\"checkbox\" checked><label for=\"sk-estimator-id-1\" class=\"sk-toggleable__label sk-toggleable__label-arrow\">KNeighborsClassifier</label><div class=\"sk-toggleable__content\"><pre>KNeighborsClassifier(n_neighbors=3)</pre></div></div></div></div></div>"
      ],
      "text/plain": [
       "KNeighborsClassifier(n_neighbors=3)"
      ]
     },
     "execution_count": 10,
     "metadata": {},
     "output_type": "execute_result"
    }
   ],
   "source": [
    "# A5. Train a kNN classifier (k =3) using the training set obtained from above exercise. Following code \n",
    "# for help:\n",
    "# >>> import numpy as np\n",
    "# >>> from sklearn.neighbors import KNeighborsClassifier\n",
    "# >>> neigh = KNeighborsClassifier(n_neighbors=3)\n",
    "# >>> neigh.fit(X, y)\n",
    "\n",
    "\n",
    "from  sklearn.neighbors import KNeighborsClassifier\n",
    "neigh = KNeighborsClassifier(n_neighbors=3) # n_neighbors default is 5\n",
    "\n",
    "neigh.fit(X,y)"
   ]
  },
  {
   "cell_type": "code",
   "execution_count": 14,
   "metadata": {},
   "outputs": [
    {
     "name": "stdout",
     "output_type": "stream",
     "text": [
      "0.9259259259259259\n"
     ]
    }
   ],
   "source": [
    "# A6. Test the accuracy of the kNN using the test set obtained from above exercise. Following code for \n",
    "# help.\n",
    "neigh_score_k3 = neigh.score(X_test, y_test)\n",
    "print(neigh_score_k3)"
   ]
  },
  {
   "cell_type": "code",
   "execution_count": 19,
   "metadata": {},
   "outputs": [
    {
     "name": "stdout",
     "output_type": "stream",
     "text": [
      "[10  9  5 10 11 12  9  6 12  1  6 13  2 11  5  4  1  9  8  3  4  8 10 13\n",
      " 13  8  5  8 13  5  8  3  5 13  3  5  1 13  3  7  6 13  4  8 13  1  3 12\n",
      " 10  6 13  9 13  3]\n"
     ]
    }
   ],
   "source": [
    "# A7. Use the predict() function to study the prediction behavior of the classifier for test vectors. \n",
    "\n",
    "print(neigh.predict(X_test))\n"
   ]
  },
  {
   "cell_type": "code",
   "execution_count": 20,
   "metadata": {},
   "outputs": [
    {
     "name": "stdout",
     "output_type": "stream",
     "text": [
      "[10  9  5 10 11 12  9  6 12  1  6 13  2 11  5  4  1  9  8  3  4  8 10 13\n",
      " 13  8  6  8 13  5  8  3  5 13  3  5  1 13  3  7  6  9  4 13  8  1  3 12\n",
      " 10  6 13  9 13  3]\n",
      "Both predictions are correct with accuracy score: k=1: 1.0 and k=3: 0.9259259259259259\n"
     ]
    },
    {
     "data": {
      "image/png": "[encoded data removed]",
      "text/plain": [
       "<Figure size 640x480 with 1 Axes>"
      ]
     },
     "metadata": {},
     "output_type": "display_data"
    }
   ],
   "source": [
    "# A8. Make k = 1 to implement NN classifier and compare the results with kNN (k = 3). Vary k from 1 to \n",
    "# 11 and make an accuracy plot.\n",
    "neigh = KNeighborsClassifier(n_neighbors=1) \n",
    "neigh.fit(X, y)\n",
    "neigh_score_k1=neigh.score(X_test, y_test)\n",
    "print(neigh.predict(X_test))\n",
    "print(f'Accuracy prediction of : k=1: {neigh_score_k1} and for k=3: {neigh_score_k3}')\n",
    "\n",
    "x_axis= np.arange(1,12)\n",
    "y_axis=[]\n",
    "\n",
    "for i in range(1,12):\n",
    "    neigh = KNeighborsClassifier(n_neighbors=i) \n",
    "    neigh.fit(X, y)\n",
    "    y_axis.append(neigh.score(X_test, y_test))\n",
    "\n",
    "plt.bar(x_axis,y_axis,color='black')\n",
    "plt.xlabel('K values')\n",
    "plt.ylabel('Accuracy Score')\n",
    "plt.title('K values vs Accuarcy Score')\n",
    "plt.show()\n"
   ]
  },
  {
   "cell_type": "code",
   "execution_count": 22,
   "metadata": {},
   "outputs": [],
   "source": [
    "# A9. Please evaluate confusion matrix for your classification problem. From confusion matrix, the \n",
    "# other performance metrics such as precision, recall and F1-Score measures for both training and test \n",
    "# data. Based on your observations, infer the models learning outcome (underfit / regularfit / overfit).\n",
    "\n",
    "\n",
    "                       # >>>>>>>>>>>>>>>>>>>>>>>>>>>Important Comment<<<<<<<<<<<<<<<<<<<<<<<<<<<<<\n",
    "\n",
    "# Since we are dealing with images so we can't evaluate the confusion matrix problem because for this we required labels and other elements in the csv formate which is not available in our dataset.\n",
    "\n",
    "\n"
   ]
  }
 ],
 "metadata": {
  "kernelspec": {
   "display_name": "Python 3",
   "language": "python",
   "name": "python3"
  },
  "language_info": {
   "codemirror_mode": {
    "name": "ipython",
    "version": 3
   },
   "file_extension": ".py",
   "mimetype": "text/x-python",
   "name": "python",
   "nbconvert_exporter": "python",
   "pygments_lexer": "ipython3",
   "version": "3.11.0"
  },
  "orig_nbformat": 4
 },
 "nbformat": 4,
 "nbformat_minor": 2
}
